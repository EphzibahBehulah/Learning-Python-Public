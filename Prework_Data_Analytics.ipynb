{
  "nbformat": 4,
  "nbformat_minor": 0,
  "metadata": {
    "colab": {
      "provenance": [],
      "include_colab_link": true
    },
    "kernelspec": {
      "name": "python3",
      "display_name": "Python 3"
    },
    "language_info": {
      "name": "python"
    }
  },
  "cells": [
    {
      "cell_type": "markdown",
      "metadata": {
        "id": "view-in-github",
        "colab_type": "text"
      },
      "source": [
        "<a href=\"https://colab.research.google.com/github/EphzibahBehulah/Learning-Python-Public/blob/main/Prework_Data_Analytics.ipynb\" target=\"_parent\"><img src=\"https://colab.research.google.com/assets/colab-badge.svg\" alt=\"Open In Colab\"/></a>"
      ]
    },
    {
      "cell_type": "markdown",
      "source": [
        "ISAAC OLUWOLE ADIGUN DATA ANALYTICS ADMISSION PROJECT 2025"
      ],
      "metadata": {
        "id": "DsY0kZ7ThXbj"
      }
    },
    {
      "cell_type": "markdown",
      "source": [
        "**Example**\n",
        "\n",
        "To Do:\n",
        "1. Create a variable called *income* and assign 40.00 to it.\n",
        "2. What dtype will the defined variable have?"
      ],
      "metadata": {
        "id": "DODcHATcB6Z_"
      }
    },
    {
      "cell_type": "code",
      "source": [
        "# create a variable named income\n",
        "income = (10, 20, 30)\n",
        "print(income)\n",
        "# assign 40\n",
        "income = income + (40,)\n",
        "print(income)\n",
        "print(type(income))"
      ],
      "metadata": {
        "id": "LC3SSMqoB9aC",
        "outputId": "be0fc8e6-763c-453d-ee79-db93560eed25",
        "colab": {
          "base_uri": "https://localhost:8080/"
        }
      },
      "execution_count": 8,
      "outputs": [
        {
          "output_type": "stream",
          "name": "stdout",
          "text": [
            "(10, 20, 30)\n",
            "(10, 20, 30, 40)\n",
            "<class 'tuple'>\n"
          ]
        }
      ]
    },
    {
      "cell_type": "markdown",
      "source": [
        "**I. Import Packages**\n",
        "\n",
        "To Do: Import Pandas and Numpy"
      ],
      "metadata": {
        "id": "YTqmpA63A5fl"
      }
    },
    {
      "cell_type": "code",
      "source": [
        "# import pandas\n",
        "import pandas as pd\n",
        "# import numpy\n",
        "import numpy as np"
      ],
      "metadata": {
        "id": "JYNDJI2evVTd"
      },
      "execution_count": 9,
      "outputs": []
    },
    {
      "cell_type": "markdown",
      "source": [
        "**II. Variables and Types**\n",
        "\n",
        "To Do:\n",
        "1. Assign a equal to 3 and assign b equal to 5. Multiply the two variables and print the result.\n",
        "2.  Print the type of the variable a\n",
        "3.  Print the type of the variable b"
      ],
      "metadata": {
        "id": "ryJaVh2zBCRq"
      }
    },
    {
      "cell_type": "code",
      "source": [
        "# create a variable a and b\n",
        "a = 3\n",
        "b = 5\n",
        "# multiply a and b and print the result\n",
        "print(a * b)\n",
        "# type of varuable a and b\n",
        "print(type(a))\n",
        "print(type(b))"
      ],
      "metadata": {
        "id": "7Na6YfPVBKff",
        "outputId": "a1724392-6d22-4194-9bd8-1a3e77002370",
        "colab": {
          "base_uri": "https://localhost:8080/"
        }
      },
      "execution_count": 11,
      "outputs": [
        {
          "output_type": "stream",
          "name": "stdout",
          "text": [
            "15\n",
            "<class 'int'>\n",
            "<class 'int'>\n"
          ]
        }
      ]
    },
    {
      "cell_type": "markdown",
      "source": [
        "**III. Lists**\n",
        "\n",
        "To Do: Add the following Item to the list below:\n",
        "\n",
        "9"
      ],
      "metadata": {
        "id": "uBIAKhxpBGwc"
      }
    },
    {
      "cell_type": "code",
      "source": [
        "my_list_of_numbers = [1, 15, 18, 77, 18, 18, 89, 7]\n",
        "\n",
        "# add item\n",
        "my_list_of_numbers.append(9)\n",
        "# print list\n",
        "print(my_list_of_numbers)\n",
        "# sort list and renamed as my  new list\n",
        "my_new_list = sorted(my_list_of_numbers)\n",
        "print(my_new_list)"
      ],
      "metadata": {
        "id": "Qo2ae6Te3qZC",
        "outputId": "11af06ad-e31c-4fff-f769-ef1350c5e950",
        "colab": {
          "base_uri": "https://localhost:8080/"
        }
      },
      "execution_count": 16,
      "outputs": [
        {
          "output_type": "stream",
          "name": "stdout",
          "text": [
            "[1, 15, 18, 77, 18, 18, 89, 7, 9]\n",
            "[1, 7, 9, 15, 18, 18, 18, 77, 89]\n"
          ]
        }
      ]
    },
    {
      "cell_type": "markdown",
      "source": [
        "To Do: Print the 3rd to the 5th item of the list"
      ],
      "metadata": {
        "id": "Dovuft_yDoxP"
      }
    },
    {
      "cell_type": "code",
      "source": [
        "my_new_sorted_list = [1, 7, 9, 15, 18, 18, 18, 77, 89]\n",
        "# print the 3rd to the 5th in my new list\n",
        "print(my_new_sorted_list[2:5])"
      ],
      "metadata": {
        "id": "BTCDy2cjOpte",
        "outputId": "af9f2fd8-4069-422d-e5e7-1706076c3498",
        "colab": {
          "base_uri": "https://localhost:8080/"
        }
      },
      "execution_count": 19,
      "outputs": [
        {
          "output_type": "stream",
          "name": "stdout",
          "text": [
            "[9, 15, 18]\n"
          ]
        }
      ]
    },
    {
      "cell_type": "markdown",
      "source": [
        "To Do: Print the last item of the list"
      ],
      "metadata": {
        "id": "9H_zsUq9DzXx"
      }
    },
    {
      "cell_type": "code",
      "source": [
        "# print the last item\n",
        "print(my_new_sorted_list[-1])"
      ],
      "metadata": {
        "id": "g9eASFhGPKIk",
        "outputId": "8e36bba9-d312-428f-9683-adcc5aea2262",
        "colab": {
          "base_uri": "https://localhost:8080/"
        }
      },
      "execution_count": 20,
      "outputs": [
        {
          "output_type": "stream",
          "name": "stdout",
          "text": [
            "89\n"
          ]
        }
      ]
    },
    {
      "cell_type": "markdown",
      "source": [
        "To Do: Create an array using the above-given list."
      ],
      "metadata": {
        "id": "D-qVvy7POHxG"
      }
    },
    {
      "cell_type": "code",
      "source": [
        "# create an array with the list\n",
        "my_array = np.array(my_list_of_numbers)\n",
        "print(my_array)"
      ],
      "metadata": {
        "id": "1d-_SOuCOVWi",
        "outputId": "ca32a63d-ab33-4a84-f752-728cdf4c04fb",
        "colab": {
          "base_uri": "https://localhost:8080/"
        }
      },
      "execution_count": 22,
      "outputs": [
        {
          "output_type": "stream",
          "name": "stdout",
          "text": [
            "[ 1  7  9 15 18 18 18 77 89]\n"
          ]
        }
      ]
    },
    {
      "cell_type": "markdown",
      "source": [
        "**IV. Dictionaries**\n",
        "\n",
        "To Do: Print all keys and all values"
      ],
      "metadata": {
        "id": "BEd2Kr8cBLF4"
      }
    },
    {
      "cell_type": "code",
      "source": [
        "fruits = {'apple':3,\n",
        "           'pear':2,\n",
        "           'banana':1\n",
        "          }\n",
        "# print all keys and values\n",
        "print(fruits.keys())\n",
        "print(fruits.values())"
      ],
      "metadata": {
        "id": "yUn9GyQ8x7VK",
        "outputId": "b6ab598f-3b4a-44a6-8d00-76d661b69c18",
        "colab": {
          "base_uri": "https://localhost:8080/"
        }
      },
      "execution_count": 23,
      "outputs": [
        {
          "output_type": "stream",
          "name": "stdout",
          "text": [
            "dict_keys(['apple', 'pear', 'banana'])\n",
            "dict_values([3, 2, 1])\n"
          ]
        }
      ]
    },
    {
      "cell_type": "markdown",
      "source": [
        "**V. Functions**\n",
        "\n",
        "To Do: Create a function that takes a string as an argument and adds a exclamation point to it, and returns the result."
      ],
      "metadata": {
        "id": "uYfnkdM6BOQA"
      }
    },
    {
      "cell_type": "code",
      "source": [
        "# Create a function that takes a string as an argument and adds a exclamation point to it, and returns the result.\n",
        "def add_exclamation_point(input_string):\n",
        "    return input_string + \"!\"\n",
        "\n",
        "# print Hello!\n",
        "result = add_exclamation_point(\"Hello\")\n",
        "print(result)"
      ],
      "metadata": {
        "id": "xi_ue5H10JmP",
        "outputId": "9750c773-8f0a-40b9-e33d-0ee6a80c4a0e",
        "colab": {
          "base_uri": "https://localhost:8080/"
        }
      },
      "execution_count": 30,
      "outputs": [
        {
          "output_type": "stream",
          "name": "stdout",
          "text": [
            "Hello!\n"
          ]
        }
      ]
    },
    {
      "cell_type": "markdown",
      "source": [
        "**VI. Pandas**\n",
        "\n",
        "To Do: Execute the following cell to import the Berlin Housing Dataset. Make sure you imported pandas."
      ],
      "metadata": {
        "id": "COPbIbD1BSHo"
      }
    },
    {
      "cell_type": "code",
      "source": [
        "flats = pd.read_csv('https://raw.githubusercontent.com/juliandnl/redi_ss20/master/berlin_rental.csv')"
      ],
      "metadata": {
        "id": "-z7SFI6TA4Ux"
      },
      "execution_count": 31,
      "outputs": []
    },
    {
      "cell_type": "markdown",
      "source": [
        "To Do: Print the first 5 rows."
      ],
      "metadata": {
        "id": "3_8nCQ7jQwyq"
      }
    },
    {
      "cell_type": "code",
      "source": [
        "# print the first 5 rows\n",
        "print(flats.head())"
      ],
      "metadata": {
        "id": "Xw89xsqeQ2dN",
        "outputId": "2c4fe060-781a-4329-ba13-7b03858854f8",
        "colab": {
          "base_uri": "https://localhost:8080/"
        }
      },
      "execution_count": 32,
      "outputs": [
        {
          "output_type": "stream",
          "name": "stdout",
          "text": [
            "        Region       Condition  Rooms     Rent  Year_Construction   Space\n",
            "0        Mitte  first_time_use    4.0  2659.00               2019  117.20\n",
            "1    Kreuzberg  first_time_use    1.0  1200.00               2020   29.33\n",
            "2     Köpenick       well_kept    2.0   979.00               1997   83.61\n",
            "3  Wilmersdorf       well_kept    4.0  1830.22               1900  171.18\n",
            "4    Kreuzberg  first_time_use    2.0  2272.00               2020   88.27\n"
          ]
        }
      ]
    },
    {
      "cell_type": "markdown",
      "source": [
        "To Do: Get the type of *Condition*"
      ],
      "metadata": {
        "id": "HUfv1yBTHHlt"
      }
    },
    {
      "cell_type": "code",
      "source": [
        "# get the type of condition\n",
        "print(flats['condition'].dtype)"
      ],
      "metadata": {
        "id": "7Xg_g_Wzukn0",
        "outputId": "4c676b5c-4073-440c-ba71-32ab80b02b61",
        "colab": {
          "base_uri": "https://localhost:8080/",
          "height": 547
        }
      },
      "execution_count": 33,
      "outputs": [
        {
          "output_type": "error",
          "ename": "KeyError",
          "evalue": "'condition'",
          "traceback": [
            "\u001b[0;31m---------------------------------------------------------------------------\u001b[0m",
            "\u001b[0;31mKeyError\u001b[0m                                  Traceback (most recent call last)",
            "\u001b[0;32m/usr/local/lib/python3.10/dist-packages/pandas/core/indexes/base.py\u001b[0m in \u001b[0;36mget_loc\u001b[0;34m(self, key)\u001b[0m\n\u001b[1;32m   3804\u001b[0m         \u001b[0;32mtry\u001b[0m\u001b[0;34m:\u001b[0m\u001b[0;34m\u001b[0m\u001b[0;34m\u001b[0m\u001b[0m\n\u001b[0;32m-> 3805\u001b[0;31m             \u001b[0;32mreturn\u001b[0m \u001b[0mself\u001b[0m\u001b[0;34m.\u001b[0m\u001b[0m_engine\u001b[0m\u001b[0;34m.\u001b[0m\u001b[0mget_loc\u001b[0m\u001b[0;34m(\u001b[0m\u001b[0mcasted_key\u001b[0m\u001b[0;34m)\u001b[0m\u001b[0;34m\u001b[0m\u001b[0;34m\u001b[0m\u001b[0m\n\u001b[0m\u001b[1;32m   3806\u001b[0m         \u001b[0;32mexcept\u001b[0m \u001b[0mKeyError\u001b[0m \u001b[0;32mas\u001b[0m \u001b[0merr\u001b[0m\u001b[0;34m:\u001b[0m\u001b[0;34m\u001b[0m\u001b[0;34m\u001b[0m\u001b[0m\n",
            "\u001b[0;32mindex.pyx\u001b[0m in \u001b[0;36mpandas._libs.index.IndexEngine.get_loc\u001b[0;34m()\u001b[0m\n",
            "\u001b[0;32mindex.pyx\u001b[0m in \u001b[0;36mpandas._libs.index.IndexEngine.get_loc\u001b[0;34m()\u001b[0m\n",
            "\u001b[0;32mpandas/_libs/hashtable_class_helper.pxi\u001b[0m in \u001b[0;36mpandas._libs.hashtable.PyObjectHashTable.get_item\u001b[0;34m()\u001b[0m\n",
            "\u001b[0;32mpandas/_libs/hashtable_class_helper.pxi\u001b[0m in \u001b[0;36mpandas._libs.hashtable.PyObjectHashTable.get_item\u001b[0;34m()\u001b[0m\n",
            "\u001b[0;31mKeyError\u001b[0m: 'condition'",
            "\nThe above exception was the direct cause of the following exception:\n",
            "\u001b[0;31mKeyError\u001b[0m                                  Traceback (most recent call last)",
            "\u001b[0;32m<ipython-input-33-12349ff56149>\u001b[0m in \u001b[0;36m<cell line: 2>\u001b[0;34m()\u001b[0m\n\u001b[1;32m      1\u001b[0m \u001b[0;31m# get the type of condition\u001b[0m\u001b[0;34m\u001b[0m\u001b[0;34m\u001b[0m\u001b[0m\n\u001b[0;32m----> 2\u001b[0;31m \u001b[0mprint\u001b[0m\u001b[0;34m(\u001b[0m\u001b[0mflats\u001b[0m\u001b[0;34m[\u001b[0m\u001b[0;34m'condition'\u001b[0m\u001b[0;34m]\u001b[0m\u001b[0;34m.\u001b[0m\u001b[0mdtype\u001b[0m\u001b[0;34m)\u001b[0m\u001b[0;34m\u001b[0m\u001b[0;34m\u001b[0m\u001b[0m\n\u001b[0m",
            "\u001b[0;32m/usr/local/lib/python3.10/dist-packages/pandas/core/frame.py\u001b[0m in \u001b[0;36m__getitem__\u001b[0;34m(self, key)\u001b[0m\n\u001b[1;32m   4100\u001b[0m             \u001b[0;32mif\u001b[0m \u001b[0mself\u001b[0m\u001b[0;34m.\u001b[0m\u001b[0mcolumns\u001b[0m\u001b[0;34m.\u001b[0m\u001b[0mnlevels\u001b[0m \u001b[0;34m>\u001b[0m \u001b[0;36m1\u001b[0m\u001b[0;34m:\u001b[0m\u001b[0;34m\u001b[0m\u001b[0;34m\u001b[0m\u001b[0m\n\u001b[1;32m   4101\u001b[0m                 \u001b[0;32mreturn\u001b[0m \u001b[0mself\u001b[0m\u001b[0;34m.\u001b[0m\u001b[0m_getitem_multilevel\u001b[0m\u001b[0;34m(\u001b[0m\u001b[0mkey\u001b[0m\u001b[0;34m)\u001b[0m\u001b[0;34m\u001b[0m\u001b[0;34m\u001b[0m\u001b[0m\n\u001b[0;32m-> 4102\u001b[0;31m             \u001b[0mindexer\u001b[0m \u001b[0;34m=\u001b[0m \u001b[0mself\u001b[0m\u001b[0;34m.\u001b[0m\u001b[0mcolumns\u001b[0m\u001b[0;34m.\u001b[0m\u001b[0mget_loc\u001b[0m\u001b[0;34m(\u001b[0m\u001b[0mkey\u001b[0m\u001b[0;34m)\u001b[0m\u001b[0;34m\u001b[0m\u001b[0;34m\u001b[0m\u001b[0m\n\u001b[0m\u001b[1;32m   4103\u001b[0m             \u001b[0;32mif\u001b[0m \u001b[0mis_integer\u001b[0m\u001b[0;34m(\u001b[0m\u001b[0mindexer\u001b[0m\u001b[0;34m)\u001b[0m\u001b[0;34m:\u001b[0m\u001b[0;34m\u001b[0m\u001b[0;34m\u001b[0m\u001b[0m\n\u001b[1;32m   4104\u001b[0m                 \u001b[0mindexer\u001b[0m \u001b[0;34m=\u001b[0m \u001b[0;34m[\u001b[0m\u001b[0mindexer\u001b[0m\u001b[0;34m]\u001b[0m\u001b[0;34m\u001b[0m\u001b[0;34m\u001b[0m\u001b[0m\n",
            "\u001b[0;32m/usr/local/lib/python3.10/dist-packages/pandas/core/indexes/base.py\u001b[0m in \u001b[0;36mget_loc\u001b[0;34m(self, key)\u001b[0m\n\u001b[1;32m   3810\u001b[0m             ):\n\u001b[1;32m   3811\u001b[0m                 \u001b[0;32mraise\u001b[0m \u001b[0mInvalidIndexError\u001b[0m\u001b[0;34m(\u001b[0m\u001b[0mkey\u001b[0m\u001b[0;34m)\u001b[0m\u001b[0;34m\u001b[0m\u001b[0;34m\u001b[0m\u001b[0m\n\u001b[0;32m-> 3812\u001b[0;31m             \u001b[0;32mraise\u001b[0m \u001b[0mKeyError\u001b[0m\u001b[0;34m(\u001b[0m\u001b[0mkey\u001b[0m\u001b[0;34m)\u001b[0m \u001b[0;32mfrom\u001b[0m \u001b[0merr\u001b[0m\u001b[0;34m\u001b[0m\u001b[0;34m\u001b[0m\u001b[0m\n\u001b[0m\u001b[1;32m   3813\u001b[0m         \u001b[0;32mexcept\u001b[0m \u001b[0mTypeError\u001b[0m\u001b[0;34m:\u001b[0m\u001b[0;34m\u001b[0m\u001b[0;34m\u001b[0m\u001b[0m\n\u001b[1;32m   3814\u001b[0m             \u001b[0;31m# If we have a listlike key, _check_indexing_error will raise\u001b[0m\u001b[0;34m\u001b[0m\u001b[0;34m\u001b[0m\u001b[0m\n",
            "\u001b[0;31mKeyError\u001b[0m: 'condition'"
          ]
        }
      ]
    },
    {
      "cell_type": "markdown",
      "source": [
        "To Do: How many rows and columns does *flats* have?"
      ],
      "metadata": {
        "id": "A9OBiuo-HTS_"
      }
    },
    {
      "cell_type": "code",
      "source": [
        "# total numbers of rows and column in the flats\n",
        "print(flats.shape)"
      ],
      "metadata": {
        "id": "0wpdiWc4u7A0",
        "outputId": "b442a208-e852-4799-934e-9a39c88d7ef1",
        "colab": {
          "base_uri": "https://localhost:8080/"
        }
      },
      "execution_count": 34,
      "outputs": [
        {
          "output_type": "stream",
          "name": "stdout",
          "text": [
            "(764, 6)\n"
          ]
        }
      ]
    },
    {
      "cell_type": "markdown",
      "source": [
        "# Congratulations - You are Done! 👍\n",
        "\n",
        "Now you mark your Prework as complete and finish the Application Form. In the Application Form we ask you to share the link to this Google Colab!\n",
        "\n",
        "**Please update the sharing settings: Share with everyone. So that we can open your Colab.**"
      ],
      "metadata": {
        "id": "XTbkEDfWHxwV"
      }
    }
  ]
}